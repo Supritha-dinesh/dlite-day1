{
 "cells": [
  {
   "cell_type": "code",
   "execution_count": 2,
   "id": "e0a7ece1",
   "metadata": {},
   "outputs": [
    {
     "name": "stdout",
     "output_type": "stream",
     "text": [
      "Enter a number: 19\n",
      "19 is a prime number\n"
     ]
    }
   ],
   "source": [
    "def is_prime(n):\n",
    "    if n <= 1:\n",
    "        return False\n",
    "    for i in range(2, int(n ** 0.5) + 1):\n",
    "        if n % i == 0:\n",
    "            return False\n",
    "    return True\n",
    "\n",
    "number = int(input(\"Enter a number: \"))\n",
    "if is_prime(number):\n",
    "    print(number, \"is a prime number\")\n",
    "else:\n",
    "    print(number, \"is not a prime number\")\n"
   ]
  },
  {
   "cell_type": "code",
   "execution_count": 3,
   "id": "7c756036",
   "metadata": {},
   "outputs": [
    {
     "name": "stdout",
     "output_type": "stream",
     "text": [
      "Enter the first number: 2\n",
      "Enter the second number: 3\n",
      "Before swapping: a = 2 , b = 3\n",
      "After swapping: a = 3 , b = 2\n"
     ]
    }
   ],
   "source": [
    "def swap_numbers(a, b):\n",
    "    print(\"Before swapping: a =\", a, \", b =\", b)\n",
    "    a, b = b, a\n",
    "    print(\"After swapping: a =\", a, \", b =\", b)\n",
    "\n",
    "num1 = int(input(\"Enter the first number: \"))\n",
    "num2 = int(input(\"Enter the second number: \"))\n",
    "swap_numbers(num1, num2)\n"
   ]
  },
  {
   "cell_type": "code",
   "execution_count": 4,
   "id": "a8a3c81f",
   "metadata": {},
   "outputs": [
    {
     "name": "stdout",
     "output_type": "stream",
     "text": [
      "Enter the first number: 3\n",
      "Enter the second number: 5\n",
      "Before swapping: a = 3 , b = 5\n",
      "After swapping: a = 5 , b = 3\n"
     ]
    }
   ],
   "source": [
    "def swap_numbers(a, b):\n",
    "    print(\"Before swapping: a =\", a, \", b =\", b)\n",
    "    temp = a\n",
    "    a = b\n",
    "    b = temp\n",
    "    print(\"After swapping: a =\", a, \", b =\", b)\n",
    "\n",
    "\n",
    "num1 = int(input(\"Enter the first number: \"))\n",
    "num2 = int(input(\"Enter the second number: \"))\n",
    "swap_numbers(num1, num2)\n"
   ]
  },
  {
   "cell_type": "code",
   "execution_count": null,
   "id": "c4018bdf",
   "metadata": {},
   "outputs": [],
   "source": [
    "def is_palindrome(s):\n",
    "    s = s.replace(\" \", \"\").lower()  \n",
    "    return s == s[::-1]\n",
    "string = input(\"Enter a string: \")\n",
    "if is_palindrome(string):\n",
    "    print(string, \"is a palindrome\")\n",
    "else:\n",
    "    print(string, \"is not a palindrome\")\n"
   ]
  },
  {
   "cell_type": "code",
   "execution_count": 2,
   "id": "87637eeb",
   "metadata": {},
   "outputs": [
    {
     "name": "stdout",
     "output_type": "stream",
     "text": [
      "*****\n",
      "*****\n",
      "*****\n",
      "*****\n",
      "*****\n"
     ]
    }
   ],
   "source": [
    "for i in range(0,5):\n",
    "    print(\"*****\")\n"
   ]
  },
  {
   "cell_type": "code",
   "execution_count": 4,
   "id": "db3aacfb",
   "metadata": {},
   "outputs": [
    {
     "name": "stdout",
     "output_type": "stream",
     "text": [
      "*       * \n",
      "  *   *   \n",
      "    *     \n",
      "  *   *   \n",
      "*       * \n"
     ]
    }
   ],
   "source": [
    "def print_x_pattern(size):\n",
    "    for i in range(size):\n",
    "        for j in range(size):\n",
    "            if i == j or i + j == size - 1:\n",
    "                print(\"*\", end=\" \")\n",
    "            else:\n",
    "                print(\" \", end=\" \")\n",
    "        print()\n",
    "\n",
    "# Define the size of the matrix\n",
    "size = 5\n",
    "print_x_pattern(size)\n"
   ]
  },
  {
   "cell_type": "code",
   "execution_count": 5,
   "id": "b9b326a7",
   "metadata": {},
   "outputs": [
    {
     "name": "stdout",
     "output_type": "stream",
     "text": [
      "5 4 3 2 1 \n",
      "5 4 3 2 \n",
      "5 4 3 \n",
      "5 4 \n",
      "5 \n"
     ]
    }
   ],
   "source": [
    "def generate_reversed_equilateral_triangle():\n",
    "    num_rows = 5\n",
    "    \n",
    "    # Generating the numbers\n",
    "    numbers = [str(i) for i in range(1, 6)]\n",
    "    \n",
    "    # Finding the length of the longest number (for formatting)\n",
    "    max_length = len(numbers[-1])\n",
    "    \n",
    "    # Generating the triangle\n",
    "    for i in range(num_rows):\n",
    "        # Printing spaces to center-align the numbers\n",
    "        print(\" \" * (i * (max_length // 2)), end=\"\")\n",
    "        \n",
    "        # Printing the numbers for the current row (in reverse order)\n",
    "        for j in range(num_rows - i):\n",
    "            print(numbers[num_rows - j - 1].rjust(max_length), end=\" \")\n",
    "        \n",
    "        print()\n",
    "\n",
    "generate_reversed_equilateral_triangle()"
   ]
  },
  {
   "cell_type": "code",
   "execution_count": null,
   "id": "9f8ba21d",
   "metadata": {},
   "outputs": [],
   "source": []
  }
 ],
 "metadata": {
  "kernelspec": {
   "display_name": "Python 3 (ipykernel)",
   "language": "python",
   "name": "python3"
  },
  "language_info": {
   "codemirror_mode": {
    "name": "ipython",
    "version": 3
   },
   "file_extension": ".py",
   "mimetype": "text/x-python",
   "name": "python",
   "nbconvert_exporter": "python",
   "pygments_lexer": "ipython3",
   "version": "3.9.13"
  }
 },
 "nbformat": 4,
 "nbformat_minor": 5
}
